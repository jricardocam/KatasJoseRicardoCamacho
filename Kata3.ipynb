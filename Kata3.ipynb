{
 "cells": [
  {
   "cell_type": "markdown",
   "metadata": {},
   "source": [
    "Para este ejercicio, escribirás una lógica condicional que imprima una advertencia si un asteroide se acerca a la Tierra demasiado rápido. La velocidad del asteroide varía dependiendo de lo cerca que esté del sol, y cualquier velocidad superior a 25 kilómetros por segundo (km/s) merece una advertencia.\n",
    "\n",
    "Un asteroide se acerca, y viaja a una velocidad de 49 km/s."
   ]
  },
  {
   "cell_type": "code",
   "execution_count": 78,
   "metadata": {},
   "outputs": [
    {
     "name": "stdout",
     "output_type": "stream",
     "text": [
      "Velocidad es del asteroide es de  1 km/s\n",
      "Tierra Fuera de Peligro\n"
     ]
    }
   ],
   "source": [
    "vel = int(input(\"Introduce la Velocidad del Asteroide\"))\n",
    "print(\"Velocidad es del asteroide es de \", vel, \"km/s\")\n",
    "\n",
    "if vel>25:\n",
    "    print(\"Advertencia\")\n",
    "else:\n",
    "    print(\"Tierra Fuera de Peligro\")"
   ]
  },
  {
   "cell_type": "markdown",
   "metadata": {},
   "source": [
    "Si un asteroide entra en la atmósfera de la Tierra a una velocidad mayor o igual a 20 km/s, a veces produce un rayo de luz que se puede ver desde la Tierra. Escribe la lógica condicional que usa declaraciones if, else, y elif para alertar a las personas de todo el mundo que deben buscar un asteroide en el cielo. ¡Hay uno que se dirige a la tierra ahora a una velocidad de 19 km/s!"
   ]
  },
  {
   "cell_type": "code",
   "execution_count": 81,
   "metadata": {},
   "outputs": [
    {
     "name": "stdout",
     "output_type": "stream",
     "text": [
      "La Velocidad del asteroide es de  19 km/s\n",
      "Hay un asteroide cerca de la tierra\n"
     ]
    }
   ],
   "source": [
    "vel = int(input(\"Introduce la Velocidad del Asteroide\"))\n",
    "print(\"La Velocidad del asteroide es de \", vel, \"km/s\")\n",
    "\n",
    "if vel>20:\n",
    "    print(\"Busca un rayo de luz, un asteroide !\")\n",
    "elif vel==20:\n",
    "    print(\"Mira el cielo, es un asteroide!\")\n",
    "else:\n",
    "    print(\"Todo esta normal \")"
   ]
  },
  {
   "cell_type": "markdown",
   "metadata": {},
   "source": [
    "Los asteroides de menos de 25 metros en su dimensión más grande probablemente se quemarán a medida que entren en la atmósfera de la Tierra.\n",
    "\n",
    "Si una pieza de un asteroide que es más grande que 25 metros pero más pequeña que 1000 metros golpeara la Tierra, causaría mucho daño.\n",
    "También discutimos en el ejercicio anterior que:\n",
    "\n",
    "La velocidad del asteroide varía en función de lo cerca que esté del sol, y cualquier velocidad superior a 25 kilómetros por segundo (km/s) merece una advertencia.\n",
    "Si un asteroide entra en la atmósfera de la Tierra a una velocidad mayor o igual a 20 km/s, a veces produce un rayo de luz que se puede ver desde la Tierra.\n"
   ]
  },
  {
   "cell_type": "code",
   "execution_count": 12,
   "metadata": {},
   "outputs": [
    {
     "name": "stdout",
     "output_type": "stream",
     "text": [
      "Mira un rayo de luz, es un asteroide\n"
     ]
    }
   ],
   "source": [
    "tam = 25\n",
    "vel = 40\n",
    "\n",
    "if tam>25 and vel>25:\n",
    "    print(\"¡PELIGRO!Un asteroide se acerca a la tierra\")\n",
    "elif tam==25 and vel>=20:\n",
    "    print(\"Mira un rayo de luz, es un asteroide\")\n",
    "elif  tam<25 and vel<20:\n",
    "    print(\"Todo esta normal\")\n",
    "else:\n",
    "    print(\"Todo esta normal\")"
   ]
  }
 ],
 "metadata": {
  "interpreter": {
   "hash": "aee8b7b246df8f9039afb4144a1f6fd8d2ca17a180786b69acc140d282b71a49"
  },
  "kernelspec": {
   "display_name": "Python 3.10.2 64-bit",
   "language": "python",
   "name": "python3"
  },
  "language_info": {
   "codemirror_mode": {
    "name": "ipython",
    "version": 3
   },
   "file_extension": ".py",
   "mimetype": "text/x-python",
   "name": "python",
   "nbconvert_exporter": "python",
   "pygments_lexer": "ipython3",
   "version": "3.10.2"
  },
  "orig_nbformat": 4
 },
 "nbformat": 4,
 "nbformat_minor": 2
}
